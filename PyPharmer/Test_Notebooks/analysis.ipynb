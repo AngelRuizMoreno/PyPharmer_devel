{
 "cells": [
  {
   "cell_type": "code",
   "execution_count": 1,
   "metadata": {},
   "outputs": [],
   "source": [
    "%load_ext autoreload\n",
    "%autoreload 2\n",
    "%matplotlib notebook"
   ]
  },
  {
   "cell_type": "code",
   "execution_count": 2,
   "metadata": {},
   "outputs": [],
   "source": [
    "### We have to find a better way to work with this.\n",
    "import sys\n",
    "sys.path.append('/Volumes/MacBookHD/Proyectos/PyPharmer_devel/')\n",
    "#sys.path.append('/home/diego/Trabajo/Proyectos/PyPharmer_devel/') # path for Diego\n",
    "import numpy as np\n",
    "import PyPharmer as phr\n",
    "import simplejson as json\n",
    "from pprint import pprint"
   ]
  },
  {
   "cell_type": "code",
   "execution_count": 3,
   "metadata": {},
   "outputs": [],
   "source": [
    "json_file1='../Test_Systems/Pharmacophores/Set02/ZINCpharmer.json'\n",
    "json_file2='../Test_Systems/Pharmacophores/Set02/pharmit.json'\n",
    "json_file3='../Test_Systems/Pharmacophores/Set01/gold_soln_l2199_3D_H_Ch_m1_4.json'"
   ]
  },
  {
   "cell_type": "code",
   "execution_count": 4,
   "metadata": {},
   "outputs": [],
   "source": [
    "ph3=json.loads(open(json_file3).read())\n",
    "ph2=json.loads(open(json_file2).read())\n",
    "ph1=json.loads(open(json_file1).read())"
   ]
  },
  {
   "cell_type": "code",
   "execution_count": 10,
   "metadata": {},
   "outputs": [],
   "source": [
    "tmp_json_keys = ph3.keys ()\n",
    "tmp_json = ph3"
   ]
  },
  {
   "cell_type": "markdown",
   "metadata": {},
   "source": [
    "## Extracting descriptors and vectors"
   ]
  },
  {
   "cell_type": "code",
   "execution_count": 11,
   "metadata": {},
   "outputs": [
    {
     "name": "stdout",
     "output_type": "stream",
     "text": [
      "[2.0, -3.3217, -13.4932, 17.2042, -3.3743, 1.187200000000001, 1.2498]\n",
      "[2.0, -0.2209, -12.3666, 18.5766, -0.7751, 3.7196, 0.9644000000000013]\n",
      "[2.0, 1.3278, -10.176, 19.1609, 2.0982, 2.316, 1.8691]\n",
      "[2.0, 3.4643, -10.5068, 19.7539, -0.0383, 2.6468, 1.2761]\n",
      "[1.0, -4.1716, -15.224, 18.6533, 0, 0, 0]\n"
     ]
    }
   ],
   "source": [
    "descriptors_list={ 'Hydrophobic':        1.0,\\\n",
    "             'HydrogenAcceptor':    2.0,\\\n",
    "             'HydrogenDonor':       3.0,\\\n",
    "             'Aromatic':            4.0,\\\n",
    "             'NegativeIon':         5.0,\\\n",
    "             'PositiveIon':         6.0,\\\n",
    "             'InclusionSphere':     7.0,\\\n",
    "             'Other':               8.0,\\\n",
    "             'PhenylalanineAnalog': 9.0,\\\n",
    "             'LeuValAnalog':        10.0 \\\n",
    "             }\n",
    "\n",
    "if 'points' in tmp_json_keys:\n",
    "                for json_object in tmp_json.get ('points'):\n",
    "\n",
    "                    if json_object.get ('enabled')==True:\n",
    "                        name=descriptors_list[json_object.get ('name')]\n",
    "                        vector=json_object.get ('vector')\n",
    "                        vector_on=json_object.get ('vector_on')\n",
    "                        \n",
    "                        if 'vector' and 'vector_on' in json_object.keys ():\n",
    "                            if vector_on ==1:\n",
    "                                for element in vector:\n",
    "                                    descriptor = ([name,json_object.get('x'),json_object.get('y'),json_object.get('z'),\n",
    "                                                    element['x'], element['y'],element['z']])\n",
    "                                    print (descriptor)\n",
    "        \n",
    "                        if 'vector' and 'vector_on' in json_object.keys ():\n",
    "                            if vector_on ==0:\n",
    "                                vector=[0]\n",
    "                                descriptor= ([name,json_object.get('x'),json_object.get('y'),json_object.get('z'),\n",
    "                                              vector[0],vector[0],vector[0]])\n",
    "                                print (descriptor)\n",
    "            \n",
    "                        if 'vector' and not 'vector_on' in json_object.keys ():\n",
    "                            if vector!=None:\n",
    "                                for element in vector:\n",
    "                                    descriptor = ([name,json_object.get('x'),json_object.get('y'),json_object.get('z'),\n",
    "                                                    element['x'], element['y'],element['z']])\n",
    "                                    print (descriptor)\n",
    "                            if vector==None:\n",
    "                                vector=[0]\n",
    "                                descriptor= ([name,json_object.get('x'),json_object.get('y'),json_object.get('z'),\n",
    "                                              vector[0],vector[0],vector[0]])\n",
    "                                print (descriptor)"
   ]
  },
  {
   "cell_type": "code",
   "execution_count": null,
   "metadata": {},
   "outputs": [],
   "source": [
    "pprint (tmp_json_keys)"
   ]
  },
  {
   "cell_type": "code",
   "execution_count": null,
   "metadata": {},
   "outputs": [],
   "source": [
    "if 'points' in tmp_json_keys:\n",
    "    for json_object in tmp_json.get ('points'):\n",
    "        vector_list=json_object.get ('vector')\n",
    "        for element in vector_list:\n",
    "            print (element['x'])"
   ]
  },
  {
   "cell_type": "markdown",
   "metadata": {},
   "source": [
    "## Extracting descriptors and svectors \n",
    "(mistake; we need vectors)"
   ]
  },
  {
   "cell_type": "code",
   "execution_count": null,
   "metadata": {},
   "outputs": [],
   "source": [
    "descriptors={ 'Hydrophobic':        1.0,\\\n",
    "             'HydrogenAcceptor':    2.0,\\\n",
    "             'HydrogenDonor':       3.0,\\\n",
    "             'Aromatic':            4.0,\\\n",
    "             'NegativeIon':         5.0,\\\n",
    "             'PositiveIon':         6.0,\\\n",
    "             'InclusionSphere':     7.0,\\\n",
    "             'Other':               8.0,\\\n",
    "             'PhenylalanineAnalog': 9.0,\\\n",
    "             'LeuValAnalog':        10.0 \\\n",
    "             }\n",
    "for point in ph2.get ('points'):\n",
    "    if point.get ('enabled')==False:\n",
    "        if 'svector' in point.keys ():\n",
    "            svector=point.get ('svector')\n",
    "            if svector!=None:\n",
    "                name=descriptors[point.get('name')]\n",
    "                print ([name,point.get ('x'),point.get ('y'),point.get ('z'),point.get ('radius'), \n",
    "                    svector.get('x'),svector.get('y'),svector.get('z')])\n",
    "            if svector== None:\n",
    "                svector=[0]\n",
    "                print ([name,point.get ('x'),point.get ('y'),point.get ('z'),point.get ('radius'),\n",
    "                    svector[0],svector[0],svector[0]])"
   ]
  },
  {
   "cell_type": "markdown",
   "metadata": {},
   "source": [
    "## Testing the library"
   ]
  },
  {
   "cell_type": "code",
   "execution_count": 13,
   "metadata": {},
   "outputs": [
    {
     "name": "stdout",
     "output_type": "stream",
     "text": [
      "[3.0, -3.1847, -14.2224, 18.3293, 0.6494398735098753, -0.4782443104007849, -0.5911939024252154]\n",
      "[3.0, -3.3217, -13.4932, 17.2042, -0.8905260605292278, 0.3133190703435675, 0.3298401062292711]\n",
      "[2.0, -0.2209, -12.3666, 18.5766, -0.1977304183959791, 0.9488815175663575, 0.2460214365902238]\n",
      "[2.0, 1.3278, -10.176, 19.1609, 0.4879127782423722, 0.8667846872751165, -0.1030797105796692]\n",
      "[2.0, 3.4643, -10.5068, 19.7539, -0.1934711260668801, 0.9391572836619496, -0.2838177582941586]\n",
      "[1.0, -4.1716, -15.224, 18.6533, 0, 0, 0]\n"
     ]
    }
   ],
   "source": [
    "analyze=phr.Descriptors (json_file1, enabled=True)"
   ]
  },
  {
   "cell_type": "code",
   "execution_count": null,
   "metadata": {},
   "outputs": [],
   "source": []
  }
 ],
 "metadata": {
  "kernelspec": {
   "display_name": "Python 3",
   "language": "python",
   "name": "python3"
  },
  "language_info": {
   "codemirror_mode": {
    "name": "ipython",
    "version": 3
   },
   "file_extension": ".py",
   "mimetype": "text/x-python",
   "name": "python",
   "nbconvert_exporter": "python",
   "pygments_lexer": "ipython3",
   "version": "3.6.5"
  }
 },
 "nbformat": 4,
 "nbformat_minor": 2
}
