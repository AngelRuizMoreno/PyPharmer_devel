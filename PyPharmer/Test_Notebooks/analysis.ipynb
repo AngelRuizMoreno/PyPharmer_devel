{
 "cells": [
  {
   "cell_type": "code",
   "execution_count": null,
   "metadata": {},
   "outputs": [],
   "source": [
    "%load_ext autoreload\n",
    "%autoreload 2\n",
    "%matplotlib notebook"
   ]
  },
  {
   "cell_type": "code",
   "execution_count": null,
   "metadata": {},
   "outputs": [],
   "source": [
    "### We have to find a better way to work with this.\n",
    "import sys\n",
    "#sys.path.append('/Volumes/MacBookHD/Proyectos/PyPharmer_devel/') #Path for Angel in ashrey\n",
    "sys.path.append ('/home/angel/Documents/Angel/Projects/PyPharmer_devel/') #path for Angel in balmunt \n",
    "#sys.path.append('/home/diego/Trabajo/Proyectos/PyPharmer_devel/') # path for Diego\n",
    "import numpy as np\n",
    "import PyPharmer as phr\n",
    "import simplejson as json\n",
    "from pprint import pprint"
   ]
  },
  {
   "cell_type": "code",
   "execution_count": null,
   "metadata": {},
   "outputs": [],
   "source": [
    "json_file1='../Test_Systems/Pharmacophores/Set02/ZINCpharmer.json'\n",
    "json_file2='../Test_Systems/Pharmacophores/Set02/pharmit.json'\n",
    "json_file3='../Test_Systems/Pharmacophores/Set01/gold_soln_l2199_3D_H_Ch_m1_4.json'"
   ]
  },
  {
   "cell_type": "code",
   "execution_count": null,
   "metadata": {},
   "outputs": [],
   "source": [
    "ph3=json.loads(open(json_file3).read())\n",
    "ph2=json.loads(open(json_file2).read())\n",
    "ph1=json.loads(open(json_file1).read())"
   ]
  },
  {
   "cell_type": "code",
   "execution_count": null,
   "metadata": {},
   "outputs": [],
   "source": [
    "tmp_json_keys = ph3.keys ()\n",
    "tmp_json = ph3"
   ]
  },
  {
   "cell_type": "code",
   "execution_count": null,
   "metadata": {},
   "outputs": [],
   "source": [
    "tmp_json.get ('points')"
   ]
  },
  {
   "cell_type": "markdown",
   "metadata": {},
   "source": [
    "## Extracting descriptors and vectors"
   ]
  },
  {
   "cell_type": "code",
   "execution_count": null,
   "metadata": {
    "scrolled": true
   },
   "outputs": [],
   "source": [
    "descriptors_list={ 'Hydrophobic':        1.0,\\\n",
    "             'HydrogenAcceptor':    2.0,\\\n",
    "             'HydrogenDonor':       3.0,\\\n",
    "             'Aromatic':            4.0,\\\n",
    "             'NegativeIon':         5.0,\\\n",
    "             'PositiveIon':         6.0,\\\n",
    "             'InclusionSphere':     7.0,\\\n",
    "             'Other':               8.0,\\\n",
    "             'PhenylalanineAnalog': 9.0,\\\n",
    "             'LeuValAnalog':        10.0 \\\n",
    "             }\n",
    "\n",
    "if 'points' in tmp_json_keys:\n",
    "                for json_object in tmp_json.get ('points'):\n",
    "                    \n",
    "                    descriptors=[]\n",
    "            \n",
    "                    if json_object.get ('enabled')==True:\n",
    "                        name=descriptors_list[json_object.get ('name')]\n",
    "                        vector=json_object.get ('vector')\n",
    "                        vector_on=json_object.get ('vector_on')\n",
    "                        \n",
    "                        if 'vector' and 'vector_on' in json_object.keys ():\n",
    "                            if vector_on ==1:\n",
    "                                for element in vector:\n",
    "                                    descriptor=([name,json_object.get('x'),json_object.get('y'),json_object.get('z'),\n",
    "                                                    element['x'], element['y'],element['z']])\n",
    "                                    descriptors+=descriptor\n",
    "        \n",
    "                        if 'vector' and 'vector_on' in json_object.keys ():\n",
    "                            if vector_on ==0:\n",
    "                                vector=[0]\n",
    "                                descripto=([name,json_object.get('x'),json_object.get('y'),json_object.get('z'),\n",
    "                                              vector[0],vector[0],vector[0]])\n",
    "                                descriptors+=descriptor\n",
    "            \n",
    "                        if 'vector' and not 'vector_on' in json_object.keys ():\n",
    "                            if vector!=None:\n",
    "                                for element in vector:\n",
    "                                    descriptor=([name,json_object.get('x'),json_object.get('y'),json_object.get('z'),\n",
    "                                                    element['x'], element['y'],element['z']])\n",
    "                                    descriptors+=descriptor\n",
    "                            if vector==None:\n",
    "                                vector=[0]\n",
    "                                descriptor=([name,json_object.get('x'),json_object.get('y'),json_object.get('z'),\n",
    "                                              vector[0],vector[0],vector[0]])\n",
    "                                descriptors+=descriptor\n",
    "                        \n",
    "                    print (descriptors)"
   ]
  },
  {
   "cell_type": "code",
   "execution_count": null,
   "metadata": {},
   "outputs": [],
   "source": [
    "print (descriptors)"
   ]
  },
  {
   "cell_type": "code",
   "execution_count": null,
   "metadata": {},
   "outputs": [],
   "source": [
    "descriptors_list={ 'Hydrophobic':        1.0,\\\n",
    "             'HydrogenAcceptor':    2.0,\\\n",
    "             'HydrogenDonor':       3.0,\\\n",
    "             'Aromatic':            4.0,\\\n",
    "             'NegativeIon':         5.0,\\\n",
    "             'PositiveIon':         6.0,\\\n",
    "             'InclusionSphere':     7.0,\\\n",
    "             'Other':               8.0,\\\n",
    "             'PhenylalanineAnalog': 9.0,\\\n",
    "             'LeuValAnalog':        10.0 \\\n",
    "             }\n",
    "\n",
    "\n",
    "if 'points' in tmp_json_keys: \n",
    "    descriptors=[]\n",
    "    for json_object in tmp_json.get ('points'):\n",
    "        if json_object.get ('enabled')==True:\n",
    "            name=descriptors_list[json_object.get ('name')]\n",
    "            vector=json_object.get ('vector')\n",
    "            vector_on=json_object.get ('vector_on')\n",
    "                        \n",
    "            if 'vector' and 'vector_on' in json_object.keys ():\n",
    "                if vector_on ==1:\n",
    "                    for element in vector:\n",
    "                        descriptor=([name,json_object.get('x'),json_object.get('y'),json_object.get('z'),\n",
    "                                                    element['x'], element['y'],element['z']])\n",
    "                        descriptors+=descriptor\n",
    "        print (descriptors)"
   ]
  },
  {
   "cell_type": "code",
   "execution_count": null,
   "metadata": {},
   "outputs": [],
   "source": [
    "print (descriptors)"
   ]
  },
  {
   "cell_type": "markdown",
   "metadata": {},
   "source": [
    "## Extracting descriptors and svectors \n",
    "(mistake; we need vectors)"
   ]
  },
  {
   "cell_type": "markdown",
   "metadata": {},
   "source": [
    "descriptors={ 'Hydrophobic':        1.0,\\\n",
    "             'HydrogenAcceptor':    2.0,\\\n",
    "             'HydrogenDonor':       3.0,\\\n",
    "             'Aromatic':            4.0,\\\n",
    "             'NegativeIon':         5.0,\\\n",
    "             'PositiveIon':         6.0,\\\n",
    "             'InclusionSphere':     7.0,\\\n",
    "             'Other':               8.0,\\\n",
    "             'PhenylalanineAnalog': 9.0,\\\n",
    "             'LeuValAnalog':        10.0 \\\n",
    "             }\n",
    "\n",
    "descriptors=[]\n",
    "for point in ph2.get ('points'):\n",
    "    if point.get ('enabled')==False:\n",
    "        if 'svector' in point.keys ():\n",
    "            svector=point.get ('svector')\n",
    "            if svector!=None:\n",
    "                name=descriptors[point.get('name')]\n",
    "                print ([name,point.get ('x'),point.get ('y'),point.get ('z'),point.get ('radius'), \n",
    "                    svector.get('x'),svector.get('y'),svector.get('z')])\n",
    "            if svector== None:\n",
    "                svector=[0]\n",
    "                print ([name,point.get ('x'),point.get ('y'),point.get ('z'),point.get ('radius'),\n",
    "                    svector[0],svector[0],svector[0]])"
   ]
  },
  {
   "cell_type": "markdown",
   "metadata": {},
   "source": [
    "## Testing the library"
   ]
  },
  {
   "cell_type": "code",
   "execution_count": null,
   "metadata": {},
   "outputs": [],
   "source": [
    "analyze=phr.Descriptors (json_file2, enabled=True)"
   ]
  },
  {
   "cell_type": "code",
   "execution_count": null,
   "metadata": {},
   "outputs": [],
   "source": []
  },
  {
   "cell_type": "code",
   "execution_count": null,
   "metadata": {},
   "outputs": [],
   "source": [
    "foo=[0,1,2,3,4,5]\n",
    "p=[]\n",
    "for i in foo:\n",
    "    ans=[i*2]\n",
    "    p+=ans\n",
    "print (p)"
   ]
  },
  {
   "cell_type": "code",
   "execution_count": null,
   "metadata": {},
   "outputs": [],
   "source": [
    "print (p)"
   ]
  },
  {
   "cell_type": "code",
   "execution_count": null,
   "metadata": {},
   "outputs": [],
   "source": []
  },
  {
   "cell_type": "code",
   "execution_count": null,
   "metadata": {},
   "outputs": [],
   "source": []
  }
 ],
 "metadata": {
  "kernelspec": {
   "display_name": "Python 3",
   "language": "python",
   "name": "python3"
  },
  "language_info": {
   "codemirror_mode": {
    "name": "ipython",
    "version": 3
   },
   "file_extension": ".py",
   "mimetype": "text/x-python",
   "name": "python",
   "nbconvert_exporter": "python",
   "pygments_lexer": "ipython3",
   "version": "3.6.4"
  }
 },
 "nbformat": 4,
 "nbformat_minor": 2
}
