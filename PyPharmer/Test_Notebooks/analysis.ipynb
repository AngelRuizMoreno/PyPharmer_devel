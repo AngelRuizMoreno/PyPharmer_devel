{
 "cells": [
  {
   "cell_type": "code",
   "execution_count": 1,
   "metadata": {},
   "outputs": [],
   "source": [
    "%load_ext autoreload\n",
    "%autoreload 2\n",
    "%matplotlib notebook"
   ]
  },
  {
   "cell_type": "code",
   "execution_count": 2,
   "metadata": {},
   "outputs": [],
   "source": [
    "### We have to find a better way to work with this.\n",
    "import sys\n",
    "sys.path.append('/Volumes/MacBookHD/Projects/PyPharmer_devel/') #Path for Angel in ashrey\n",
    "#sys.path.append ('/home/angel/Documents/Angel/Projects/PyPharmer_devel/') #path for Angel in balmunt \n",
    "#sys.path.append('/home/diego/Trabajo/Proyectos/PyPharmer_devel/') # path for Diego\n",
    "import matplotlib as mt\n",
    "from matplotlib import pylab\n",
    "from mpl_toolkits.mplot3d import Axes3D\n",
    "import matplotlib.pyplot as plt\n",
    "import networkx as nx\n",
    "import numpy as np\n",
    "import PyPharmer as phr\n",
    "import simplejson as json\n",
    "from pprint import pprint"
   ]
  },
  {
   "cell_type": "markdown",
   "metadata": {},
   "source": [
    "# Matplotlib options\n",
    "%matplotlib inline\n",
    "#mt.style.use('ggplot')\n",
    "pylab.rcParams['figure.figsize'] = 12, 12"
   ]
  },
  {
   "cell_type": "code",
   "execution_count": 3,
   "metadata": {},
   "outputs": [],
   "source": [
    "json_file1='../Test_Systems/Pharmacophores/Set02/ZINCpharmer.json'\n",
    "json_file2='../Test_Systems/Pharmacophores/Set02/pharmit.json'\n",
    "json_file3='../Test_Systems/Pharmacophores/Set01/gold_soln_l2199_3D_H_Ch_m1_4.json'"
   ]
  },
  {
   "cell_type": "code",
   "execution_count": 4,
   "metadata": {},
   "outputs": [],
   "source": [
    "ph3=json.loads(open(json_file3).read())\n",
    "ph2=json.loads(open(json_file2).read())\n",
    "ph1=json.loads(open(json_file1).read())"
   ]
  },
  {
   "cell_type": "code",
   "execution_count": 5,
   "metadata": {},
   "outputs": [],
   "source": [
    "tmp_json_keys = ph2.keys ()\n",
    "tmp_json = ph2"
   ]
  },
  {
   "cell_type": "markdown",
   "metadata": {},
   "source": [
    "## Extracting descriptors and vectors"
   ]
  },
  {
   "cell_type": "markdown",
   "metadata": {
    "scrolled": true
   },
   "source": [
    "descriptors_list={ 'Hydrophobic':        1.0,\\\n",
    "             'HydrogenAcceptor':    2.0,\\\n",
    "             'HydrogenDonor':       3.0,\\\n",
    "             'Aromatic':            4.0,\\\n",
    "             'NegativeIon':         5.0,\\\n",
    "             'PositiveIon':         6.0,\\\n",
    "             'InclusionSphere':     7.0,\\\n",
    "             'Other':               8.0,\\\n",
    "             'PhenylalanineAnalog': 9.0,\\\n",
    "             'LeuValAnalog':        10.0 \\\n",
    "             }\n",
    "\n",
    "if 'points' in tmp_json_keys:\n",
    "    \n",
    "                descriptors=[]\n",
    "        \n",
    "                for json_object in tmp_json.get ('points'):\n",
    "                    \n",
    "                \n",
    "                    if json_object.get ('enabled')==True:\n",
    "                        name=descriptors_list[json_object.get ('name')]\n",
    "                        vector=json_object.get ('vector')\n",
    "                        vector_on=json_object.get ('vector_on')\n",
    "                        \n",
    "                        if 'vector' and 'vector_on' in json_object.keys ():\n",
    "                            if vector_on ==1:\n",
    "                                for element in vector:\n",
    "                                    descriptor=([name,json_object.get('x'),json_object.get('y'),json_object.get('z'),\n",
    "                                                        element['x'], element['y'],element['z']])\n",
    "                                descriptors.append (descriptor)\n",
    "        \n",
    "                        if 'vector' and 'vector_on' in json_object.keys ():\n",
    "                            if vector_on ==0:\n",
    "                                vector=[0]\n",
    "                                descriptor=([name,json_object.get('x'),json_object.get('y'),json_object.get('z'),\n",
    "                                              vector[0],vector[0],vector[0]])\n",
    "                                descriptors.append (descriptor)\n",
    "                           \n",
    "                        if 'vector' and not 'vector_on' in json_object.keys ():\n",
    "                            if vector!=None:\n",
    "                                for element in vector:\n",
    "                                    descriptor=([name,json_object.get('x'),json_object.get('y'),json_object.get('z'),\n",
    "                                                element['x'], element['y'],element['z']])\n",
    "                                descriptors.append (descriptor)\n",
    "                            if vector==None:\n",
    "                                vector=[0]\n",
    "                                descriptor=([name,json_object.get('x'),json_object.get('y'),json_object.get('z'),\n",
    "                                              vector[0],vector[0],vector[0]])\n",
    "                                descriptors.append (descriptor)\n",
    "                                \n",
    "                descriptors.append (descriptor)\n",
    "                points=np.array (descriptors)\n",
    "                pprint (point)"
   ]
  },
  {
   "cell_type": "markdown",
   "metadata": {},
   "source": [
    "## Extracting descriptors and svectors \n",
    "(mistake; we need vectors)"
   ]
  },
  {
   "cell_type": "markdown",
   "metadata": {},
   "source": [
    "descriptors={ 'Hydrophobic':        1.0,\\\n",
    "             'HydrogenAcceptor':    2.0,\\\n",
    "             'HydrogenDonor':       3.0,\\\n",
    "             'Aromatic':            4.0,\\\n",
    "             'NegativeIon':         5.0,\\\n",
    "             'PositiveIon':         6.0,\\\n",
    "             'InclusionSphere':     7.0,\\\n",
    "             'Other':               8.0,\\\n",
    "             'PhenylalanineAnalog': 9.0,\\\n",
    "             'LeuValAnalog':        10.0 \\\n",
    "             }\n",
    "\n",
    "descriptors=[]\n",
    "for point in ph2.get ('points'):\n",
    "    if point.get ('enabled')==False:\n",
    "        if 'svector' in point.keys ():\n",
    "            svector=point.get ('svector')\n",
    "            if svector!=None:\n",
    "                name=descriptors[point.get('name')]\n",
    "                print ([name,point.get ('x'),point.get ('y'),point.get ('z'),point.get ('radius'), \n",
    "                    svector.get('x'),svector.get('y'),svector.get('z')])\n",
    "            if svector== None:\n",
    "                svector=[0]\n",
    "                print ([name,point.get ('x'),point.get ('y'),point.get ('z'),point.get ('radius'),\n",
    "                    svector[0],svector[0],svector[0]])"
   ]
  },
  {
   "cell_type": "markdown",
   "metadata": {},
   "source": [
    "## Testing the library"
   ]
  },
  {
   "cell_type": "code",
   "execution_count": 16,
   "metadata": {},
   "outputs": [],
   "source": [
    "data=phr.Descriptors (input_file=json_file2,select='enabled')"
   ]
  },
  {
   "cell_type": "code",
   "execution_count": 17,
   "metadata": {},
   "outputs": [
    {
     "data": {
      "text/plain": [
       "array([[  2.   ,  -3.185, -14.222,  18.329,   0.5  ,   0.   ,   0.   ,\n",
       "          0.   ],\n",
       "       [  2.   ,  -3.322, -13.493,  17.204,   0.5  ,   0.   ,   0.   ,\n",
       "          0.   ],\n",
       "       [  2.   ,  -0.221, -12.367,  18.577,   0.5  ,   0.   ,   0.   ,\n",
       "          0.   ],\n",
       "       [  2.   ,   1.328, -10.176,  19.161,   0.5  ,   0.   ,   0.   ,\n",
       "          0.   ],\n",
       "       [  2.   ,   3.464, -10.507,  19.754,   0.5  ,   0.   ,   0.   ,\n",
       "          0.   ],\n",
       "       [  1.   ,  -4.172, -15.224,  18.653,   1.   ,   0.   ,   0.   ,\n",
       "          0.   ],\n",
       "       [  1.   ,  -4.172, -15.224,  18.653,   1.   ,   0.   ,   0.   ,\n",
       "          0.   ]])"
      ]
     },
     "execution_count": 17,
     "metadata": {},
     "output_type": "execute_result"
    }
   ],
   "source": [
    "data.points"
   ]
  },
  {
   "cell_type": "code",
   "execution_count": null,
   "metadata": {},
   "outputs": [],
   "source": [
    "data.plot_points"
   ]
  },
  {
   "cell_type": "code",
   "execution_count": 12,
   "metadata": {},
   "outputs": [],
   "source": [
    "Hyd= [[],[],[]]\n",
    "HA=[[],[],[]]\n",
    "HD= [[],[],[]]\n",
    "Ar=[[],[],[]]\n",
    "for element in data.points:\n",
    "    if element[0]==1.0:\n",
    "        Hyd[0].append (element[1])\n",
    "        Hyd[1].append (element[2])\n",
    "        Hyd[2].append (element[3])\n",
    "    if element[0]==2.0:\n",
    "        HA[0].append (element[1])\n",
    "        HA[1].append (element[2])\n",
    "        HA[2].append (element[3])\n",
    "    if element[0]==3.0:\n",
    "        HD[0].append (element[1])\n",
    "        HD[1].append (element[2])\n",
    "        HD[2].append (element[3])\n",
    "    if element[0]==4.0:\n",
    "        Ar[0].append (element[1])\n",
    "        Ar[1].append (element[2])\n",
    "        Ar[2].append (element[3])"
   ]
  },
  {
   "cell_type": "code",
   "execution_count": 13,
   "metadata": {},
   "outputs": [
    {
     "name": "stdout",
     "output_type": "stream",
     "text": [
      "[[-4.172, -4.172], [-15.224, -15.224], [18.653, 18.653]] [[-3.185, -3.322, -0.221, 1.328, 3.464], [-14.222, -13.493, -12.367, -10.176, -10.507], [18.329, 17.204, 18.577, 19.161, 19.754]] [[], [], []] [[], [], []]\n"
     ]
    }
   ],
   "source": [
    "print (Hyd,HA,HD,Ar)"
   ]
  },
  {
   "cell_type": "code",
   "execution_count": null,
   "metadata": {},
   "outputs": [],
   "source": [
    "fig = plt.figure()\n",
    "ax = fig.add_subplot(111, projection='3d')\n",
    "ax.scatter(Hyd[0],Hyd[1],Hyd[2], color=[0.100, 1.000, 0.000])\n",
    "ax.scatter(HA[0],HA[1],HA[2], color='orange')\n",
    "ax.scatter(HD[0],HD[1],HD[2], color='black')\n",
    "ax.scatter(Ar[0],Ar[1],Ar[2], color='purple')\n",
    "ax.set_xlabel('X Label')\n",
    "ax.set_ylabel('Y Label')\n",
    "ax.set_zlabel('Z Label')\n",
    "plt.show()"
   ]
  },
  {
   "cell_type": "code",
   "execution_count": null,
   "metadata": {},
   "outputs": [],
   "source": [
    "cliques=nx.Graph ()\n",
    "cliques.add_nodes_from (Hyd[0-3])"
   ]
  },
  {
   "cell_type": "code",
   "execution_count": null,
   "metadata": {},
   "outputs": [],
   "source": [
    "print (Hyd[0-3])"
   ]
  },
  {
   "cell_type": "markdown",
   "metadata": {},
   "source": [
    "## Multiple files"
   ]
  },
  {
   "cell_type": "code",
   "execution_count": null,
   "metadata": {},
   "outputs": [],
   "source": [
    "template = '/Volumes/MacBookHD/Dropbox/Doctorado/Experimentos/Pharmacophore_model_pharmer/pharmacophore_files/%s.json'\n",
    "flist = [template % str(i) for i in range(1,61)]"
   ]
  },
  {
   "cell_type": "code",
   "execution_count": null,
   "metadata": {},
   "outputs": [],
   "source": [
    "Hydrophobic         = [[],[],[]]\n",
    "HydrogenAcceptor    = [[],[],[]]\n",
    "HydrogenDonor       = [[],[],[]]\n",
    "Aromatic            = [[],[],[]]\n",
    "NegativeIon         = [[],[],[]]\n",
    "PositiveIon         = [[],[],[]]\n",
    "InclusionSphere     = [[],[],[]]\n",
    "Other               = [[],[],[]]\n",
    "PhenylalanineAnalog = [[],[],[]]\n",
    "LeuValAnalog        = [[],[],[]]\n",
    "    \n",
    "for i in flist:\n",
    "    data=phr.Descriptors (input_file=i,select='all')\n",
    "    \n",
    "    for element in data.points:\n",
    "        if element[0]==1.0:\n",
    "            Hydrophobic[0].append (element[1])\n",
    "            Hydrophobic[1].append (element[2])\n",
    "            Hydrophobic[2].append (element[3])\n",
    "        if element[0]==2.0:\n",
    "            HydrogenAcceptor[0].append (element[1])\n",
    "            HydrogenAcceptor[1].append (element[2])\n",
    "            HydrogenAcceptor[2].append (element[3])\n",
    "        if element[0]==3.0:\n",
    "            HydrogenDonor[0].append (element[1])\n",
    "            HydrogenDonor[1].append (element[2])\n",
    "            HydrogenDonor[2].append (element[3])\n",
    "        if element[0]==4.0:\n",
    "            Aromatic[0].append (element[1])\n",
    "            Aromatic[1].append (element[2])\n",
    "            Aromatic[2].append (element[3])\n",
    "        if element[0]==4.0:\n",
    "            NegativeIon[0].append (element[1])\n",
    "            NegativeIon[1].append (element[2])\n",
    "            NegativeIon[2].append (element[3])\n",
    "        if element[0]==5.0:\n",
    "            PositiveIon[0].append (element[1])\n",
    "            PositiveIon[1].append (element[2])\n",
    "            PositiveIon[2].append (element[3])\n",
    "        if element[0]==6.0:\n",
    "            Other[0].append (element[1])\n",
    "            Other[1].append (element[2])\n",
    "            Other[2].append (element[3])\n",
    "        if element[0]==7.0:\n",
    "            PhenylalanineAnalog[0].append (element[1])\n",
    "            PhenylalanineAnalog[1].append (element[2])\n",
    "            PhenylalanineAnalog[2].append (element[3])\n",
    "        if element[0]==8.0:\n",
    "            LeuValAnalog[0].append (element[1])\n",
    "            LeuValAnalog[1].append (element[2])\n",
    "            LeuValAnalog[2].append (element[3])"
   ]
  },
  {
   "cell_type": "code",
   "execution_count": null,
   "metadata": {},
   "outputs": [],
   "source": [
    "fig = plt.figure()\n",
    "ax  = fig.add_subplot(111, projection='3d')\n",
    "ax.scatter(Hydrophobic[0],Hydrophobic[1],Hydrophobic[2], color=[0.100, 1.000, 0.000])\n",
    "ax.scatter(HydrogenAcceptor[0],HydrogenAcceptor[1],HydrogenAcceptor[2], color=[1.000, 0.84, 0.000])\n",
    "ax.scatter(HydrogenDonor[0],HydrogenDonor[1],HydrogenDonor[2], color='black') #[1.000, 1.000, 1.000]\n",
    "ax.scatter(Aromatic[0],Aromatic[1],Aromatic[2], color=[0.627, 0.1254, 0.941])\n",
    "ax.scatter(NegativeIon[0],NegativeIon[1],NegativeIon[2], color=[1.00, 0.00, 0.00])\n",
    "ax.scatter(PositiveIon[0],PositiveIon[1],PositiveIon[2], color=[0.00, 0.00, 1.00])\n",
    "ax.scatter(Other[0],Other[1],Other[2], color=[0.74, 0.74, 0.74])\n",
    "ax.scatter(PhenylalanineAnalog[0],PhenylalanineAnalog[1],PhenylalanineAnalog[2], color=[1.0, 1.0, 0.0])\n",
    "ax.scatter(LeuValAnalog[0],LeuValAnalog[1],LeuValAnalog[2], color=[1.0, 1.0, 0.0])\n",
    "ax.set_xlabel('X Coordinates')\n",
    "ax.set_ylabel('Y Coordinates')\n",
    "ax.set_zlabel('Z Coordinates')\n",
    "plt.show()"
   ]
  },
  {
   "cell_type": "code",
   "execution_count": null,
   "metadata": {},
   "outputs": [],
   "source": []
  },
  {
   "cell_type": "code",
   "execution_count": null,
   "metadata": {},
   "outputs": [],
   "source": []
  },
  {
   "cell_type": "code",
   "execution_count": null,
   "metadata": {},
   "outputs": [],
   "source": []
  },
  {
   "cell_type": "code",
   "execution_count": null,
   "metadata": {},
   "outputs": [],
   "source": []
  },
  {
   "cell_type": "code",
   "execution_count": null,
   "metadata": {},
   "outputs": [],
   "source": []
  }
 ],
 "metadata": {
  "kernelspec": {
   "display_name": "Python 3",
   "language": "python",
   "name": "python3"
  },
  "language_info": {
   "codemirror_mode": {
    "name": "ipython",
    "version": 3
   },
   "file_extension": ".py",
   "mimetype": "text/x-python",
   "name": "python",
   "nbconvert_exporter": "python",
   "pygments_lexer": "ipython3",
   "version": "3.6.5"
  }
 },
 "nbformat": 4,
 "nbformat_minor": 2
}
