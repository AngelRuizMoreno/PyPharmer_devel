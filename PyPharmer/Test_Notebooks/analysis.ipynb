{
 "cells": [
  {
   "cell_type": "code",
   "execution_count": 1,
   "metadata": {},
   "outputs": [],
   "source": [
    "%load_ext autoreload\n",
    "%autoreload 2\n",
    "%matplotlib notebook"
   ]
  },
  {
   "cell_type": "code",
   "execution_count": 2,
   "metadata": {},
   "outputs": [],
   "source": [
    "### We have to find a better way to work with this.\n",
    "import sys\n",
    "sys.path.append('/Volumes/MacBookHD/Proyectos/PyPharmer_devel/') #Path for Angel in ashrey\n",
    "#sys.path.append ('/home/angel/Documents/Angel/Projects/PyPharmer_devel/') #path for Angel in balmunt \n",
    "#sys.path.append('/home/diego/Trabajo/Proyectos/PyPharmer_devel/') # path for Diego\n",
    "import numpy as np\n",
    "import PyPharmer as phr\n",
    "import simplejson as json\n",
    "from pprint import pprint"
   ]
  },
  {
   "cell_type": "code",
   "execution_count": 3,
   "metadata": {},
   "outputs": [],
   "source": [
    "json_file1='../Test_Systems/Pharmacophores/Set02/ZINCpharmer.json'\n",
    "json_file2='../Test_Systems/Pharmacophores/Set02/pharmit.json'\n",
    "json_file3='../Test_Systems/Pharmacophores/Set01/gold_soln_l2199_3D_H_Ch_m1_4.json'"
   ]
  },
  {
   "cell_type": "code",
   "execution_count": null,
   "metadata": {},
   "outputs": [],
   "source": [
    "ph3=json.loads(open(json_file3).read())\n",
    "ph2=json.loads(open(json_file2).read())\n",
    "ph1=json.loads(open(json_file1).read())"
   ]
  },
  {
   "cell_type": "code",
   "execution_count": null,
   "metadata": {},
   "outputs": [],
   "source": [
    "tmp_json_keys = ph3.keys ()\n",
    "tmp_json = ph3"
   ]
  },
  {
   "cell_type": "code",
   "execution_count": null,
   "metadata": {},
   "outputs": [],
   "source": [
    "tmp_json.get ('points')"
   ]
  },
  {
   "cell_type": "markdown",
   "metadata": {},
   "source": [
    "## Extracting descriptors and vectors"
   ]
  },
  {
   "cell_type": "code",
   "execution_count": null,
   "metadata": {
    "scrolled": true
   },
   "outputs": [],
   "source": [
    "descriptors_list={ 'Hydrophobic':        1.0,\\\n",
    "             'HydrogenAcceptor':    2.0,\\\n",
    "             'HydrogenDonor':       3.0,\\\n",
    "             'Aromatic':            4.0,\\\n",
    "             'NegativeIon':         5.0,\\\n",
    "             'PositiveIon':         6.0,\\\n",
    "             'InclusionSphere':     7.0,\\\n",
    "             'Other':               8.0,\\\n",
    "             'PhenylalanineAnalog': 9.0,\\\n",
    "             'LeuValAnalog':        10.0 \\\n",
    "             }\n",
    "\n",
    "if 'points' in tmp_json_keys:\n",
    "    \n",
    "                descriptors=[]\n",
    "        \n",
    "                for json_object in tmp_json.get ('points'):\n",
    "                    \n",
    "                \n",
    "                    if json_object.get ('enabled')==True:\n",
    "                        name=descriptors_list[json_object.get ('name')]\n",
    "                        vector=json_object.get ('vector')\n",
    "                        vector_on=json_object.get ('vector_on')\n",
    "                        \n",
    "                        if 'vector' and 'vector_on' in json_object.keys ():\n",
    "                            if vector_on ==1:\n",
    "                                for element in vector:\n",
    "                                    descriptor=([name,json_object.get('x'),json_object.get('y'),json_object.get('z'),\n",
    "                                                        element['x'], element['y'],element['z']])\n",
    "                                descriptors.append (descriptor)\n",
    "        \n",
    "                        if 'vector' and 'vector_on' in json_object.keys ():\n",
    "                            if vector_on ==0:\n",
    "                                vector=[0]\n",
    "                                descriptor=([name,json_object.get('x'),json_object.get('y'),json_object.get('z'),\n",
    "                                              vector[0],vector[0],vector[0]])\n",
    "                                descriptors.append (descriptor)\n",
    "                           \n",
    "                        if 'vector' and not 'vector_on' in json_object.keys ():\n",
    "                            if vector!=None:\n",
    "                                for element in vector:\n",
    "                                    descriptor=([name,json_object.get('x'),json_object.get('y'),json_object.get('z'),\n",
    "                                                element['x'], element['y'],element['z']])\n",
    "                                descriptors.append (descriptor)\n",
    "                            if vector==None:\n",
    "                                vector=[0]\n",
    "                                descriptor=([name,json_object.get('x'),json_object.get('y'),json_object.get('z'),\n",
    "                                              vector[0],vector[0],vector[0]])\n",
    "                                descriptors.append (descriptor)\n",
    "                                \n",
    "                descriptors.append (descriptor)\n",
    "                pprint (descriptors)"
   ]
  },
  {
   "cell_type": "code",
   "execution_count": null,
   "metadata": {},
   "outputs": [],
   "source": [
    "\n",
    "descriptors [0][0]"
   ]
  },
  {
   "cell_type": "code",
   "execution_count": null,
   "metadata": {},
   "outputs": [],
   "source": [
    "descriptors_list={ 'Hydrophobic':        1.0,\\\n",
    "             'HydrogenAcceptor':    2.0,\\\n",
    "             'HydrogenDonor':       3.0,\\\n",
    "             'Aromatic':            4.0,\\\n",
    "             'NegativeIon':         5.0,\\\n",
    "             'PositiveIon':         6.0,\\\n",
    "             'InclusionSphere':     7.0,\\\n",
    "             'Other':               8.0,\\\n",
    "             'PhenylalanineAnalog': 9.0,\\\n",
    "             'LeuValAnalog':        10.0 \\\n",
    "             }\n",
    "\n",
    "\n",
    "if 'points' in tmp_json_keys: \n",
    "    descriptors=[]\n",
    "    for json_object in tmp_json.get ('points'):\n",
    "        if json_object.get ('enabled')==True:\n",
    "            name=descriptors_list[json_object.get ('name')]\n",
    "            vector=json_object.get ('vector')\n",
    "            vector_on=json_object.get ('vector_on')\n",
    "                        \n",
    "            if 'vector' and 'vector_on' in json_object.keys ():\n",
    "                if vector_on ==1:\n",
    "                    for element in vector:\n",
    "                        descriptor=([name,json_object.get('x'),json_object.get('y'),json_object.get('z'),\n",
    "                                                    element['x'], element['y'],element['z']])\n",
    "                        descriptors+=descriptor\n",
    "        print (descriptors)"
   ]
  },
  {
   "cell_type": "code",
   "execution_count": null,
   "metadata": {},
   "outputs": [],
   "source": [
    "print (descriptors)"
   ]
  },
  {
   "cell_type": "markdown",
   "metadata": {},
   "source": [
    "## Extracting descriptors and svectors \n",
    "(mistake; we need vectors)"
   ]
  },
  {
   "cell_type": "markdown",
   "metadata": {},
   "source": [
    "descriptors={ 'Hydrophobic':        1.0,\\\n",
    "             'HydrogenAcceptor':    2.0,\\\n",
    "             'HydrogenDonor':       3.0,\\\n",
    "             'Aromatic':            4.0,\\\n",
    "             'NegativeIon':         5.0,\\\n",
    "             'PositiveIon':         6.0,\\\n",
    "             'InclusionSphere':     7.0,\\\n",
    "             'Other':               8.0,\\\n",
    "             'PhenylalanineAnalog': 9.0,\\\n",
    "             'LeuValAnalog':        10.0 \\\n",
    "             }\n",
    "\n",
    "descriptors=[]\n",
    "for point in ph2.get ('points'):\n",
    "    if point.get ('enabled')==False:\n",
    "        if 'svector' in point.keys ():\n",
    "            svector=point.get ('svector')\n",
    "            if svector!=None:\n",
    "                name=descriptors[point.get('name')]\n",
    "                print ([name,point.get ('x'),point.get ('y'),point.get ('z'),point.get ('radius'), \n",
    "                    svector.get('x'),svector.get('y'),svector.get('z')])\n",
    "            if svector== None:\n",
    "                svector=[0]\n",
    "                print ([name,point.get ('x'),point.get ('y'),point.get ('z'),point.get ('radius'),\n",
    "                    svector[0],svector[0],svector[0]])"
   ]
  },
  {
   "cell_type": "markdown",
   "metadata": {},
   "source": [
    "## Testing the library"
   ]
  },
  {
   "cell_type": "code",
   "execution_count": 21,
   "metadata": {},
   "outputs": [
    {
     "name": "stdout",
     "output_type": "stream",
     "text": [
      "[[4.0, 2.136, -13.816, 18.888, 1.1, 0, 0, 0], [1.0, 2.136, -13.816, 18.888, 1, 0, 0, 0], [7.0, -2.919, -13.724, 17.894, 1, 0, 0, 0], [7.0, 1.546, -13.451, 18.81, 1, 0, 0, 0], [7.0, 2.395, -10.291, 19.464, 1, 0, 0, 0], [7.0, 2.395, -10.291, 19.464, 1, 0, 0, 0]]\n"
     ]
    }
   ],
   "source": [
    "data=phr.Descriptors (json_file2,enabled=False)"
   ]
  },
  {
   "cell_type": "code",
   "execution_count": 22,
   "metadata": {},
   "outputs": [
    {
     "ename": "TypeError",
     "evalue": "'module' object is not callable",
     "output_type": "error",
     "traceback": [
      "\u001b[0;31m---------------------------------------------------------------------------\u001b[0m",
      "\u001b[0;31mTypeError\u001b[0m                                 Traceback (most recent call last)",
      "\u001b[0;32m<ipython-input-22-85aa514b2628>\u001b[0m in \u001b[0;36m<module>\u001b[0;34m()\u001b[0m\n\u001b[0;32m----> 1\u001b[0;31m \u001b[0mphr\u001b[0m\u001b[0;34m.\u001b[0m\u001b[0manalysis\u001b[0m \u001b[0;34m(\u001b[0m\u001b[0mdata\u001b[0m\u001b[0;34m)\u001b[0m\u001b[0;34m\u001b[0m\u001b[0m\n\u001b[0m",
      "\u001b[0;31mTypeError\u001b[0m: 'module' object is not callable"
     ]
    }
   ],
   "source": [
    "phr.analysis (data)"
   ]
  },
  {
   "cell_type": "code",
   "execution_count": 11,
   "metadata": {},
   "outputs": [
    {
     "data": {
      "text/plain": [
       "'../Test_Systems/Pharmacophores/Set02/pharmit.json'"
      ]
     },
     "execution_count": 11,
     "metadata": {},
     "output_type": "execute_result"
    }
   ],
   "source": [
    "analyze.input_file"
   ]
  },
  {
   "cell_type": "code",
   "execution_count": null,
   "metadata": {},
   "outputs": [],
   "source": [
    "print (p)"
   ]
  },
  {
   "cell_type": "code",
   "execution_count": null,
   "metadata": {},
   "outputs": [],
   "source": []
  },
  {
   "cell_type": "code",
   "execution_count": null,
   "metadata": {},
   "outputs": [],
   "source": []
  }
 ],
 "metadata": {
  "kernelspec": {
   "display_name": "Python 3",
   "language": "python",
   "name": "python3"
  },
  "language_info": {
   "codemirror_mode": {
    "name": "ipython",
    "version": 3
   },
   "file_extension": ".py",
   "mimetype": "text/x-python",
   "name": "python",
   "nbconvert_exporter": "python",
   "pygments_lexer": "ipython3",
   "version": "3.6.5"
  }
 },
 "nbformat": 4,
 "nbformat_minor": 2
}
